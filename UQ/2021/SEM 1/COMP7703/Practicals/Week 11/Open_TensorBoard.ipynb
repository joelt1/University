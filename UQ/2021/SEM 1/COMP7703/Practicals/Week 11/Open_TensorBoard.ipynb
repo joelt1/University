{
 "cells": [
  {
   "cell_type": "code",
   "execution_count": 1,
   "id": "9e406888",
   "metadata": {},
   "outputs": [
    {
     "name": "stdout",
     "output_type": "stream",
     "text": [
      "WARNING:tensorflow:From d:\\virtualenv\\ml\\tensorflow\\lib\\site-packages\\tensorflow\\python\\compat\\v2_compat.py:96: disable_resource_variables (from tensorflow.python.ops.variable_scope) is deprecated and will be removed in a future version.\n",
      "Instructions for updating:\n",
      "non-resource variables are not supported in the long term\n"
     ]
    }
   ],
   "source": [
    "from ConvMLPModel import *\n",
    "from SupportCode.Helpers import *"
   ]
  },
  {
   "cell_type": "code",
   "execution_count": 2,
   "id": "376fb035",
   "metadata": {},
   "outputs": [],
   "source": [
    "k = 10\n",
    "openTensorBoardAtIndex(\"Sonar\", \"Q2\", k+1)"
   ]
  }
 ],
 "metadata": {
  "kernelspec": {
   "display_name": "Python 3",
   "language": "python",
   "name": "python3"
  },
  "language_info": {
   "codemirror_mode": {
    "name": "ipython",
    "version": 3
   },
   "file_extension": ".py",
   "mimetype": "text/x-python",
   "name": "python",
   "nbconvert_exporter": "python",
   "pygments_lexer": "ipython3",
   "version": "3.8.9"
  }
 },
 "nbformat": 4,
 "nbformat_minor": 5
}
