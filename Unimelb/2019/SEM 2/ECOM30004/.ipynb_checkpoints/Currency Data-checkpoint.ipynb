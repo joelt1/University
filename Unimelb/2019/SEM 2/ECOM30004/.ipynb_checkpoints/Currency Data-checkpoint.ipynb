{
 "cells": [
  {
   "cell_type": "code",
   "execution_count": 27,
   "metadata": {},
   "outputs": [],
   "source": [
    "import numpy as np\n",
    "import pandas as pd\n",
    "import seaborn as sns\n",
    "import pandas_datareader as pdr\n",
    "from datetime import datetime as dt\n",
    "from scipy.stats import kurtosis"
   ]
  },
  {
   "cell_type": "code",
   "execution_count": 28,
   "metadata": {},
   "outputs": [],
   "source": [
    "start = dt(2011, 1, 1)\n",
    "end = dt(2019, 8, 31)"
   ]
  },
  {
   "cell_type": "code",
   "execution_count": 29,
   "metadata": {},
   "outputs": [],
   "source": [
    "audusd = pdr.DataReader(\"RBA/FXRUSD\", \"quandl\", start, end, access_key=\"\")\n",
    "audnzd = pdr.DataReader(\"RBA/FXRNZD\", \"quandl\", start, end, access_key=\"\")\n",
    "audcad = pdr.DataReader(\"RBA/FXRCD\", \"quandl\", start, end, access_key=\"\")\n",
    "audchf = pdr.DataReader(\"RBA/FXRSF\", \"quandl\", start, end, access_key=\"\")\n",
    "aus_rf = pdr.DataReader(\"RBA/F01_1\", \"quandl\", start, end, access_key=\"\").iloc[:,0]\n",
    "us_rf = pdr.DataReader(\"FRED/FEDFUNDS\", \"quandl\", start, end, access_key=\"\")\n",
    "nz_rf = pdr.DataReader(\"IRSTCI01NZM156N\", \"fred\", start, end)\n",
    "can_rf = pdr.DataReader(\"IRSTCB01CAM156N\", \"fred\", start, end)\n",
    "ch_rf = pdr.DataReader(\"IRSTCI01CHM156N\", \"fred\", start, end)\n",
    "trade = pdr.DataReader(\"RBA/I01\", \"quandl\", start, end, access_key=\"\")\n",
    "nx = trade.iloc[:, 0] - trade.iloc[:, 9]"
   ]
  },
  {
   "cell_type": "code",
   "execution_count": 30,
   "metadata": {},
   "outputs": [
    {
     "data": {
      "text/html": [
       "<div>\n",
       "<style scoped>\n",
       "    .dataframe tbody tr th:only-of-type {\n",
       "        vertical-align: middle;\n",
       "    }\n",
       "\n",
       "    .dataframe tbody tr th {\n",
       "        vertical-align: top;\n",
       "    }\n",
       "\n",
       "    .dataframe thead th {\n",
       "        text-align: right;\n",
       "    }\n",
       "</style>\n",
       "<table border=\"1\" class=\"dataframe\">\n",
       "  <thead>\n",
       "    <tr style=\"text-align: right;\">\n",
       "      <th></th>\n",
       "      <th>AUDUSD</th>\n",
       "      <th>AUDNZD</th>\n",
       "      <th>AUDCAD</th>\n",
       "      <th>AUDCHF</th>\n",
       "      <th>AUS Interest Rate</th>\n",
       "      <th>US Interest Rate</th>\n",
       "      <th>NZ Interest Rate</th>\n",
       "      <th>CAN Interest Rate</th>\n",
       "      <th>CH Interest Rate</th>\n",
       "      <th>AUS Net Exports</th>\n",
       "    </tr>\n",
       "  </thead>\n",
       "  <tbody>\n",
       "    <tr>\n",
       "      <td>2011-01-31</td>\n",
       "      <td>0.9924</td>\n",
       "      <td>1.2860</td>\n",
       "      <td>0.9933</td>\n",
       "      <td>0.9346</td>\n",
       "      <td>4.75</td>\n",
       "      <td>0.16</td>\n",
       "      <td>2.91</td>\n",
       "      <td>1.25</td>\n",
       "      <td>0.04</td>\n",
       "      <td>-14848.0</td>\n",
       "    </tr>\n",
       "    <tr>\n",
       "      <td>2011-02-28</td>\n",
       "      <td>1.0163</td>\n",
       "      <td>1.3518</td>\n",
       "      <td>0.9939</td>\n",
       "      <td>0.9420</td>\n",
       "      <td>4.75</td>\n",
       "      <td>0.14</td>\n",
       "      <td>2.50</td>\n",
       "      <td>1.25</td>\n",
       "      <td>0.04</td>\n",
       "      <td>-14848.0</td>\n",
       "    </tr>\n",
       "    <tr>\n",
       "      <td>2011-03-31</td>\n",
       "      <td>1.0334</td>\n",
       "      <td>1.3592</td>\n",
       "      <td>1.0035</td>\n",
       "      <td>0.9485</td>\n",
       "      <td>4.75</td>\n",
       "      <td>0.10</td>\n",
       "      <td>2.50</td>\n",
       "      <td>1.25</td>\n",
       "      <td>0.04</td>\n",
       "      <td>-14848.0</td>\n",
       "    </tr>\n",
       "    <tr>\n",
       "      <td>2011-04-30</td>\n",
       "      <td>1.0939</td>\n",
       "      <td>1.3580</td>\n",
       "      <td>1.0372</td>\n",
       "      <td>0.9504</td>\n",
       "      <td>4.75</td>\n",
       "      <td>0.09</td>\n",
       "      <td>2.45</td>\n",
       "      <td>1.25</td>\n",
       "      <td>0.09</td>\n",
       "      <td>-16096.0</td>\n",
       "    </tr>\n",
       "    <tr>\n",
       "      <td>2011-05-31</td>\n",
       "      <td>1.0709</td>\n",
       "      <td>1.2993</td>\n",
       "      <td>1.0407</td>\n",
       "      <td>0.9140</td>\n",
       "      <td>4.75</td>\n",
       "      <td>0.09</td>\n",
       "      <td>2.46</td>\n",
       "      <td>1.25</td>\n",
       "      <td>0.09</td>\n",
       "      <td>-16096.0</td>\n",
       "    </tr>\n",
       "    <tr>\n",
       "      <td>...</td>\n",
       "      <td>...</td>\n",
       "      <td>...</td>\n",
       "      <td>...</td>\n",
       "      <td>...</td>\n",
       "      <td>...</td>\n",
       "      <td>...</td>\n",
       "      <td>...</td>\n",
       "      <td>...</td>\n",
       "      <td>...</td>\n",
       "      <td>...</td>\n",
       "    </tr>\n",
       "    <tr>\n",
       "      <td>2019-01-31</td>\n",
       "      <td>0.7268</td>\n",
       "      <td>1.0514</td>\n",
       "      <td>0.9544</td>\n",
       "      <td>0.7216</td>\n",
       "      <td>1.50</td>\n",
       "      <td>2.40</td>\n",
       "      <td>1.73</td>\n",
       "      <td>2.00</td>\n",
       "      <td>-0.97</td>\n",
       "      <td>3637.0</td>\n",
       "    </tr>\n",
       "    <tr>\n",
       "      <td>2019-02-28</td>\n",
       "      <td>0.7146</td>\n",
       "      <td>1.0435</td>\n",
       "      <td>0.9400</td>\n",
       "      <td>0.7137</td>\n",
       "      <td>1.50</td>\n",
       "      <td>2.41</td>\n",
       "      <td>1.73</td>\n",
       "      <td>2.00</td>\n",
       "      <td>-1.51</td>\n",
       "      <td>3637.0</td>\n",
       "    </tr>\n",
       "    <tr>\n",
       "      <td>2019-03-31</td>\n",
       "      <td>0.7121</td>\n",
       "      <td>1.0428</td>\n",
       "      <td>0.9507</td>\n",
       "      <td>0.7090</td>\n",
       "      <td>1.50</td>\n",
       "      <td>2.42</td>\n",
       "      <td>1.70</td>\n",
       "      <td>2.00</td>\n",
       "      <td>-0.85</td>\n",
       "      <td>3637.0</td>\n",
       "    </tr>\n",
       "    <tr>\n",
       "      <td>2019-04-30</td>\n",
       "      <td>0.7039</td>\n",
       "      <td>1.0574</td>\n",
       "      <td>0.9482</td>\n",
       "      <td>0.7178</td>\n",
       "      <td>1.50</td>\n",
       "      <td>2.39</td>\n",
       "      <td>1.51</td>\n",
       "      <td>2.00</td>\n",
       "      <td>-0.90</td>\n",
       "      <td>6388.0</td>\n",
       "    </tr>\n",
       "    <tr>\n",
       "      <td>2019-05-31</td>\n",
       "      <td>0.6916</td>\n",
       "      <td>1.0620</td>\n",
       "      <td>0.9366</td>\n",
       "      <td>0.6955</td>\n",
       "      <td>1.50</td>\n",
       "      <td>2.38</td>\n",
       "      <td>1.45</td>\n",
       "      <td>2.00</td>\n",
       "      <td>-0.95</td>\n",
       "      <td>6388.0</td>\n",
       "    </tr>\n",
       "  </tbody>\n",
       "</table>\n",
       "<p>101 rows × 10 columns</p>\n",
       "</div>"
      ],
      "text/plain": [
       "            AUDUSD  AUDNZD  AUDCAD  AUDCHF  AUS Interest Rate  \\\n",
       "2011-01-31  0.9924  1.2860  0.9933  0.9346               4.75   \n",
       "2011-02-28  1.0163  1.3518  0.9939  0.9420               4.75   \n",
       "2011-03-31  1.0334  1.3592  1.0035  0.9485               4.75   \n",
       "2011-04-30  1.0939  1.3580  1.0372  0.9504               4.75   \n",
       "2011-05-31  1.0709  1.2993  1.0407  0.9140               4.75   \n",
       "...            ...     ...     ...     ...                ...   \n",
       "2019-01-31  0.7268  1.0514  0.9544  0.7216               1.50   \n",
       "2019-02-28  0.7146  1.0435  0.9400  0.7137               1.50   \n",
       "2019-03-31  0.7121  1.0428  0.9507  0.7090               1.50   \n",
       "2019-04-30  0.7039  1.0574  0.9482  0.7178               1.50   \n",
       "2019-05-31  0.6916  1.0620  0.9366  0.6955               1.50   \n",
       "\n",
       "            US Interest Rate  NZ Interest Rate  CAN Interest Rate  \\\n",
       "2011-01-31              0.16              2.91               1.25   \n",
       "2011-02-28              0.14              2.50               1.25   \n",
       "2011-03-31              0.10              2.50               1.25   \n",
       "2011-04-30              0.09              2.45               1.25   \n",
       "2011-05-31              0.09              2.46               1.25   \n",
       "...                      ...               ...                ...   \n",
       "2019-01-31              2.40              1.73               2.00   \n",
       "2019-02-28              2.41              1.73               2.00   \n",
       "2019-03-31              2.42              1.70               2.00   \n",
       "2019-04-30              2.39              1.51               2.00   \n",
       "2019-05-31              2.38              1.45               2.00   \n",
       "\n",
       "            CH Interest Rate  AUS Net Exports  \n",
       "2011-01-31              0.04         -14848.0  \n",
       "2011-02-28              0.04         -14848.0  \n",
       "2011-03-31              0.04         -14848.0  \n",
       "2011-04-30              0.09         -16096.0  \n",
       "2011-05-31              0.09         -16096.0  \n",
       "...                      ...              ...  \n",
       "2019-01-31             -0.97           3637.0  \n",
       "2019-02-28             -1.51           3637.0  \n",
       "2019-03-31             -0.85           3637.0  \n",
       "2019-04-30             -0.90           6388.0  \n",
       "2019-05-31             -0.95           6388.0  \n",
       "\n",
       "[101 rows x 10 columns]"
      ]
     },
     "execution_count": 30,
     "metadata": {},
     "output_type": "execute_result"
    }
   ],
   "source": [
    "data_df = pd.concat([audusd, audnzd, audcad, audchf, aus_rf, us_rf, nz_rf, can_rf, ch_rf, nx], axis=1)\n",
    "data_df.columns = [\"AUDUSD\", \"AUDNZD\", \"AUDCAD\", \"AUDCHF\", \"AUS Interest Rate\", \"US Interest Rate\", \"NZ Interest Rate\",\n",
    "                   \"CAN Interest Rate\", \"CH Interest Rate\", \"AUS Net Exports\"]\n",
    "data_df.bfill(inplace=True)\n",
    "data_df = data_df.loc[list(aus_rf.index)]\n",
    "data_df.dropna(inplace=True)\n",
    "data_df.sort_index(ascending=True)"
   ]
  },
  {
   "cell_type": "code",
   "execution_count": 49,
   "metadata": {},
   "outputs": [
    {
     "data": {
      "image/png": "[encoded data removed]",
      "text/plain": [
       "<Figure size 432x288 with 1 Axes>"
      ]
     },
     "metadata": {
      "needs_background": "light"
     },
     "output_type": "display_data"
    }
   ],
   "source": [
    "level = sns.kdeplot(data_df[\"AUDUSD\"], legend=False)\n",
    "first_diff = sns.kdeplot(data_df[\"AUDUSD\"].diff()[1:], legend=False)\n",
    "plt.title(\"KDE of level and first difference of AUDUSD\")\n",
    "plt.xlabel(\"Value\")\n",
    "plt.ylabel(\"Density\")\n",
    "plt.legend(labels=[\"Level\", \"First difference\"])\n",
    "plt.show((level, first_diff))"
   ]
  },
  {
   "cell_type": "code",
   "execution_count": 46,
   "metadata": {},
   "outputs": [
    {
     "data": {
      "image/png": "[encoded data removed]",
      "text/plain": [
       "<Figure size 432x288 with 1 Axes>"
      ]
     },
     "metadata": {
      "needs_background": "light"
     },
     "output_type": "display_data"
    }
   ],
   "source": [
    "level = sns.kdeplot(data_df[\"AUDNZD\"], legend=False)\n",
    "first_diff = sns.kdeplot(data_df[\"AUDNZD\"].diff()[1:], legend=False)\n",
    "plt.title(\"KDE of level and first difference of AUDNZD\")\n",
    "plt.xlabel(\"Value\")\n",
    "plt.ylabel(\"Density\")\n",
    "plt.legend(labels=[\"Level\", \"First difference\"])\n",
    "plt.show((level, first_diff))"
   ]
  },
  {
   "cell_type": "code",
   "execution_count": 47,
   "metadata": {},
   "outputs": [
    {
     "data": {
      "image/png": "[encoded data removed]",
      "text/plain": [
       "<Figure size 432x288 with 1 Axes>"
      ]
     },
     "metadata": {
      "needs_background": "light"
     },
     "output_type": "display_data"
    }
   ],
   "source": [
    "level = sns.kdeplot(data_df[\"AUDCAD\"], legend=False)\n",
    "first_diff = sns.kdeplot(data_df[\"AUDCAD\"].diff()[1:], legend=False)\n",
    "plt.title(\"KDE of level and first difference of AUDCAD\")\n",
    "plt.xlabel(\"Value\")\n",
    "plt.ylabel(\"Density\")\n",
    "plt.legend(labels=[\"Level\", \"First difference\"])\n",
    "plt.show((level, first_diff))"
   ]
  },
  {
   "cell_type": "code",
   "execution_count": 48,
   "metadata": {},
   "outputs": [
    {
     "data": {
      "image/png": "[encoded data removed]",
      "text/plain": [
       "<Figure size 432x288 with 1 Axes>"
      ]
     },
     "metadata": {
      "needs_background": "light"
     },
     "output_type": "display_data"
    }
   ],
   "source": [
    "level = sns.kdeplot(data_df[\"AUDCHF\"], legend=False)\n",
    "first_diff = sns.kdeplot(data_df[\"AUDCHF\"].diff()[1:], legend=False)\n",
    "plt.title(\"KDE of level and first difference of AUDCHF\")\n",
    "plt.xlabel(\"Value\")\n",
    "plt.ylabel(\"Density\")\n",
    "plt.legend(labels=[\"Level\", \"First difference\"])\n",
    "plt.show((level, first_diff))"
   ]
  },
  {
   "cell_type": "code",
   "execution_count": 9,
   "metadata": {},
   "outputs": [
    {
     "data": {
      "text/plain": [
       "-0.13033969187422167"
      ]
     },
     "execution_count": 9,
     "metadata": {},
     "output_type": "execute_result"
    }
   ],
   "source": [
    "kurtosis(np.log(data_df[\"AUDCAD\"]).diff()[1:])"
   ]
  },
  {
   "cell_type": "code",
   "execution_count": 10,
   "metadata": {},
   "outputs": [
    {
     "data": {
      "text/plain": [
       "1.050648678638666"
      ]
     },
     "execution_count": 10,
     "metadata": {},
     "output_type": "execute_result"
    }
   ],
   "source": [
    "kurtosis(np.log(audcad[\"Value\"]).diff()[1:])"
   ]
  },
  {
   "cell_type": "code",
   "execution_count": 72,
   "metadata": {},
   "outputs": [],
   "source": [
    "data_df.to_csv(\"data_shortened.csv\")"
   ]
  }
 ],
 "metadata": {
  "kernelspec": {
   "display_name": "Python 3",
   "language": "python",
   "name": "python3"
  },
  "language_info": {
   "codemirror_mode": {
    "name": "ipython",
    "version": 3
   },
   "file_extension": ".py",
   "mimetype": "text/x-python",
   "name": "python",
   "nbconvert_exporter": "python",
   "pygments_lexer": "ipython3",
   "version": "3.8.4"
  }
 },
 "nbformat": 4,
 "nbformat_minor": 2
}
